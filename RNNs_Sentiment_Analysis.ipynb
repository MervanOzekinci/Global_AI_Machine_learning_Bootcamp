{
  "nbformat": 4,
  "nbformat_minor": 0,
  "metadata": {
    "colab": {
      "provenance": []
    },
    "kernelspec": {
      "name": "python3",
      "display_name": "Python 3"
    },
    "language_info": {
      "name": "python"
    },
    "accelerator": "GPU"
  },
  "cells": [
    {
      "cell_type": "code",
      "source": [
        "#requeired libraries\n",
        "import tensorflow as tf\n",
        "import matplotlib.pyplot as plt\n",
        "import numpy as np\n"
      ],
      "metadata": {
        "id": "UEBcdNKe9YMf"
      },
      "execution_count": 5,
      "outputs": []
    },
    {
      "cell_type": "code",
      "source": [
        "#downlad the imdb dataset included in Keras\n",
        "(X_train,y_train),(X_test,y_test)=tf.keras.datasets.imdb.load_data()"
      ],
      "metadata": {
        "colab": {
          "base_uri": "https://localhost:8080/"
        },
        "id": "TL4X7Rgg9YPs",
        "outputId": "3106df4e-062f-413b-dc02-4d782b28570c"
      },
      "execution_count": 2,
      "outputs": [
        {
          "output_type": "stream",
          "name": "stdout",
          "text": [
            "Downloading data from https://storage.googleapis.com/tensorflow/tf-keras-datasets/imdb.npz\n",
            "17465344/17464789 [==============================] - 0s 0us/step\n",
            "17473536/17464789 [==============================] - 0s 0us/step\n"
          ]
        }
      ]
    },
    {
      "cell_type": "code",
      "source": [
        "#print a sample\n",
        "print(X_train[0])"
      ],
      "metadata": {
        "colab": {
          "base_uri": "https://localhost:8080/"
        },
        "id": "eK-wxlKm9YSd",
        "outputId": "a04e3544-3d12-43c9-f2e5-94282ce97b21"
      },
      "execution_count": 3,
      "outputs": [
        {
          "output_type": "stream",
          "name": "stdout",
          "text": [
            "[1, 14, 22, 16, 43, 530, 973, 1622, 1385, 65, 458, 4468, 66, 3941, 4, 173, 36, 256, 5, 25, 100, 43, 838, 112, 50, 670, 22665, 9, 35, 480, 284, 5, 150, 4, 172, 112, 167, 21631, 336, 385, 39, 4, 172, 4536, 1111, 17, 546, 38, 13, 447, 4, 192, 50, 16, 6, 147, 2025, 19, 14, 22, 4, 1920, 4613, 469, 4, 22, 71, 87, 12, 16, 43, 530, 38, 76, 15, 13, 1247, 4, 22, 17, 515, 17, 12, 16, 626, 18, 19193, 5, 62, 386, 12, 8, 316, 8, 106, 5, 4, 2223, 5244, 16, 480, 66, 3785, 33, 4, 130, 12, 16, 38, 619, 5, 25, 124, 51, 36, 135, 48, 25, 1415, 33, 6, 22, 12, 215, 28, 77, 52, 5, 14, 407, 16, 82, 10311, 8, 4, 107, 117, 5952, 15, 256, 4, 31050, 7, 3766, 5, 723, 36, 71, 43, 530, 476, 26, 400, 317, 46, 7, 4, 12118, 1029, 13, 104, 88, 4, 381, 15, 297, 98, 32, 2071, 56, 26, 141, 6, 194, 7486, 18, 4, 226, 22, 21, 134, 476, 26, 480, 5, 144, 30, 5535, 18, 51, 36, 28, 224, 92, 25, 104, 4, 226, 65, 16, 38, 1334, 88, 12, 16, 283, 5, 16, 4472, 113, 103, 32, 15, 16, 5345, 19, 178, 32]\n"
          ]
        }
      ]
    },
    {
      "cell_type": "code",
      "source": [
        "#print the number of samples\n",
        "print(f\"X_train: {len(X_train)}\")\n",
        "print(f\"X_test:: {len(X_test)}\")"
      ],
      "metadata": {
        "colab": {
          "base_uri": "https://localhost:8080/"
        },
        "id": "3FI97-KI9YVY",
        "outputId": "aa71c8cd-30d5-4cf3-9db7-f1135d353200"
      },
      "execution_count": 4,
      "outputs": [
        {
          "output_type": "stream",
          "name": "stdout",
          "text": [
            "X_train: 25000\n",
            "X_test:: 25000\n"
          ]
        }
      ]
    },
    {
      "cell_type": "code",
      "source": [
        "#preprocessing\n",
        "#concatenate X_test and X_train | y_train and y_test\n",
        "X=np.concatenate((X_train,X_test),axis=0)\n",
        "y=np.concatenate((y_train,y_test),axis=0)"
      ],
      "metadata": {
        "id": "R4whZkTO9YYp"
      },
      "execution_count": 7,
      "outputs": []
    },
    {
      "cell_type": "code",
      "source": [
        "# padding\n",
        "\n",
        "#padd all reviews in the X dataset to the length maxlen=1024\n",
        "\n",
        "X=tf.keras.preprocessing.sequence.pad_sequences(X,maxlen=1024)"
      ],
      "metadata": {
        "id": "kL2dSw_-9YbR"
      },
      "execution_count": 8,
      "outputs": []
    },
    {
      "cell_type": "code",
      "source": [
        "#Splitting\n",
        "\n",
        "#create the training datasets\n",
        "X_train =X[:40000]\n",
        "y_train=y[:40000]\n",
        "\n",
        "#create the validation datasets\n",
        "X_val =X[40000:45000]\n",
        "y_val =y[40000:45000]\n",
        "\n",
        "#create the test datasets\n",
        "X_test=X[45000:50000]\n",
        "y_test=y[45000:50000]"
      ],
      "metadata": {
        "id": "xWXkdEtc9YeO"
      },
      "execution_count": 10,
      "outputs": []
    },
    {
      "cell_type": "code",
      "source": [
        "#print the number of samples\n",
        "print(f\"X_train: {len(X_train)}\")\n",
        "print(f\"y_train: {len(y_train)}\")\n",
        "print(f\"X_val: {len(X_val)}\")\n",
        "print(f\"y_val: {len(y_val)}\")\n",
        "print(f\"X_test: {len(X_test)}\")\n",
        "print(f\"y_test: {len(y_test)}\")"
      ],
      "metadata": {
        "colab": {
          "base_uri": "https://localhost:8080/"
        },
        "id": "wYv0TfRk9YhY",
        "outputId": "f890db31-cf1e-4399-d7ae-bd211302feeb"
      },
      "execution_count": 14,
      "outputs": [
        {
          "output_type": "stream",
          "name": "stdout",
          "text": [
            "X_train: 40000\n",
            "y_train: 40000\n",
            "X_val: 5000\n",
            "y_val: 5000\n",
            "X_test: 5000\n",
            "y_test: 5000\n"
          ]
        }
      ]
    },
    {
      "cell_type": "code",
      "source": [
        "#consturcting the nueral network\n",
        "model=tf.keras.Sequential([\n",
        "    #embedding layer\n",
        "\n",
        "    #add an embedding layer and a dropout\n",
        "    tf.keras.layers.Embedding(input_dim=10000,output_dim=256),\n",
        "    tf.keras.layers.Dropout(0.7),\n",
        "\n",
        "    #add a LSTM layer with dropout\n",
        "    tf.keras.layers.LSTM(256),\n",
        "    tf.keras.layers.Dropout(0.7),\n",
        "\n",
        "    # add a Dense layer with dropout\n",
        "    tf.keras.layers.Dense(128,activation=\"relu\"),\n",
        "    tf.keras.layers.Dropout(0.7),\n",
        "\n",
        "\n",
        "    #add te output layer\n",
        "    tf.keras.layers.Dense(1,activation=\"sigmoid\")\n",
        "    \n",
        "\n",
        "])"
      ],
      "metadata": {
        "id": "yluHGr099Ykn"
      },
      "execution_count": 17,
      "outputs": []
    },
    {
      "cell_type": "code",
      "source": [
        "#Optimizer\n",
        "model.compile(\n",
        "    optimizer=\"adam\",\n",
        "    loss=tf.keras.losses.binary_crossentropy,\n",
        "    metrics=[\"accuracy\"]\n",
        ")"
      ],
      "metadata": {
        "id": "IX8AhuYk9YoA"
      },
      "execution_count": 18,
      "outputs": []
    },
    {
      "cell_type": "code",
      "source": [
        "#Training The Model\n",
        "\n",
        "#trainig the model for 5 epochs with batch size of 128\n",
        "\n",
        "results= model.fit(X_train,y_train,epochs=15,batch_size=128,validation_data=(X_val,y_val))"
      ],
      "metadata": {
        "colab": {
          "base_uri": "https://localhost:8080/"
        },
        "id": "GMqJ6RQR9Yq3",
        "outputId": "db47312c-4f93-451b-8680-cfeacc562c37"
      },
      "execution_count": 26,
      "outputs": [
        {
          "output_type": "stream",
          "name": "stdout",
          "text": [
            "Epoch 1/15\n",
            "313/313 [==============================] - 58s 184ms/step - loss: 0.6348 - accuracy: 0.6413 - val_loss: 0.6378 - val_accuracy: 0.6336\n",
            "Epoch 2/15\n",
            "313/313 [==============================] - 57s 182ms/step - loss: 0.5017 - accuracy: 0.7594 - val_loss: 0.3432 - val_accuracy: 0.8600\n",
            "Epoch 3/15\n",
            "313/313 [==============================] - 57s 182ms/step - loss: 0.3637 - accuracy: 0.8493 - val_loss: 0.3587 - val_accuracy: 0.8590\n",
            "Epoch 4/15\n",
            "313/313 [==============================] - 56s 180ms/step - loss: 0.2632 - accuracy: 0.9053 - val_loss: 0.2598 - val_accuracy: 0.8926\n",
            "Epoch 5/15\n",
            "313/313 [==============================] - 56s 180ms/step - loss: 0.2042 - accuracy: 0.9279 - val_loss: 0.2836 - val_accuracy: 0.8888\n",
            "Epoch 6/15\n",
            "313/313 [==============================] - 56s 181ms/step - loss: 0.1787 - accuracy: 0.9385 - val_loss: 0.2558 - val_accuracy: 0.8964\n",
            "Epoch 7/15\n",
            "313/313 [==============================] - 56s 180ms/step - loss: 0.1612 - accuracy: 0.9436 - val_loss: 0.3034 - val_accuracy: 0.8986\n",
            "Epoch 8/15\n",
            "313/313 [==============================] - 56s 180ms/step - loss: 0.1477 - accuracy: 0.9482 - val_loss: 0.2686 - val_accuracy: 0.8980\n",
            "Epoch 9/15\n",
            "313/313 [==============================] - 56s 180ms/step - loss: 0.1306 - accuracy: 0.9551 - val_loss: 0.2790 - val_accuracy: 0.9000\n",
            "Epoch 10/15\n",
            "313/313 [==============================] - 56s 180ms/step - loss: 0.1134 - accuracy: 0.9618 - val_loss: 0.3269 - val_accuracy: 0.9006\n",
            "Epoch 11/15\n",
            "313/313 [==============================] - 56s 180ms/step - loss: 0.1025 - accuracy: 0.9661 - val_loss: 0.3293 - val_accuracy: 0.9012\n",
            "Epoch 12/15\n",
            "313/313 [==============================] - 56s 180ms/step - loss: 0.0958 - accuracy: 0.9675 - val_loss: 0.3510 - val_accuracy: 0.8992\n",
            "Epoch 13/15\n",
            "313/313 [==============================] - 56s 180ms/step - loss: 0.0887 - accuracy: 0.9695 - val_loss: 0.3581 - val_accuracy: 0.8980\n",
            "Epoch 14/15\n",
            "313/313 [==============================] - 56s 180ms/step - loss: 0.0786 - accuracy: 0.9742 - val_loss: 0.3629 - val_accuracy: 0.8968\n",
            "Epoch 15/15\n",
            "313/313 [==============================] - 56s 180ms/step - loss: 0.0785 - accuracy: 0.9742 - val_loss: 0.3843 - val_accuracy: 0.8988\n"
          ]
        }
      ]
    },
    {
      "cell_type": "code",
      "source": [
        "#Visualize the results\n",
        "\n",
        "plt.plot(results.history[\"loss\"],label=\"Train\")\n",
        "\n",
        "plt.plot(results.history[\"val_loss\"],label=\"Validation\")\n",
        "\n",
        "plt.xlabel(\"Epoch\")\n",
        "plt.ylabel(\"Loss\")\n",
        "\n",
        "plt.legend()\n",
        "plt.show()"
      ],
      "metadata": {
        "colab": {
          "base_uri": "https://localhost:8080/",
          "height": 279
        },
        "id": "UV86wVjc9Yt5",
        "outputId": "099e384b-4bac-43e1-f267-c227efb6fd02"
      },
      "execution_count": 27,
      "outputs": [
        {
          "output_type": "display_data",
          "data": {
            "text/plain": [
              "<Figure size 432x288 with 1 Axes>"
            ],
            "image/png": "[encoded data removed]"
          },
          "metadata": {
            "needs_background": "light"
          }
        }
      ]
    },
    {
      "cell_type": "code",
      "source": [
        "plt.plot(results.history[\"accuracy\"],label=\"Train\")\n",
        "\n",
        "plt.plot(results.history[\"val_accuracy\"],label=\"Validation\")\n",
        "\n",
        "plt.xlabel(\"Epoch\")\n",
        "plt.ylabel(\"Accuracy\")\n",
        "\n",
        "plt.legend()\n",
        "plt.show()"
      ],
      "metadata": {
        "colab": {
          "base_uri": "https://localhost:8080/",
          "height": 279
        },
        "id": "0yXHMvb9H5-m",
        "outputId": "c54e43fa-01f3-4e35-e26d-8e881d6b211b"
      },
      "execution_count": 28,
      "outputs": [
        {
          "output_type": "display_data",
          "data": {
            "text/plain": [
              "<Figure size 432x288 with 1 Axes>"
            ],
            "image/png": "[encoded data removed]"
          },
          "metadata": {
            "needs_background": "light"
          }
        }
      ]
    },
    {
      "cell_type": "code",
      "source": [
        "#Evaluate the performance\n",
        "\n",
        "model.evaluate(X_test,y_test)"
      ],
      "metadata": {
        "colab": {
          "base_uri": "https://localhost:8080/"
        },
        "id": "yvKFYtNwIRSo",
        "outputId": "9adffd0e-8f04-4689-cb8a-fd8f38e3f9de"
      },
      "execution_count": 29,
      "outputs": [
        {
          "output_type": "stream",
          "name": "stdout",
          "text": [
            "157/157 [==============================] - 4s 25ms/step - loss: 0.4068 - accuracy: 0.8948\n"
          ]
        },
        {
          "output_type": "execute_result",
          "data": {
            "text/plain": [
              "[0.40683266520500183, 0.8948000073432922]"
            ]
          },
          "metadata": {},
          "execution_count": 29
        }
      ]
    },
    {
      "cell_type": "code",
      "source": [
        "#try a prediciton\n",
        "\n",
        "prediction_result=model.predict(X_test[789].reshape(1,1024))"
      ],
      "metadata": {
        "id": "XM9ZOrwKIdrV"
      },
      "execution_count": 30,
      "outputs": []
    },
    {
      "cell_type": "code",
      "source": [
        "print(f\"Label:{y_test[789]} | Prediction : {prediction_result}\")"
      ],
      "metadata": {
        "colab": {
          "base_uri": "https://localhost:8080/"
        },
        "id": "5MU2divVIdBL",
        "outputId": "b647ea79-551a-40db-a874-d3b51dcefcc5"
      },
      "execution_count": 31,
      "outputs": [
        {
          "output_type": "stream",
          "name": "stdout",
          "text": [
            "Label:0 | Prediction : [[0.00127229]]\n"
          ]
        }
      ]
    }
  ]
}