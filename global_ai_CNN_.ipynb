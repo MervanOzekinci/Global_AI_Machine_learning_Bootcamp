{
  "nbformat": 4,
  "nbformat_minor": 0,
  "metadata": {
    "colab": {
      "provenance": []
    },
    "kernelspec": {
      "name": "python3",
      "display_name": "Python 3"
    },
    "language_info": {
      "name": "python"
    },
    "accelerator": "GPU"
  },
  "cells": [
    {
      "cell_type": "code",
      "execution_count": 24,
      "metadata": {
        "id": "8RtI-RZ8g49a"
      },
      "outputs": [],
      "source": [
        "#1D text-speech\n",
        "#2D images\n",
        "#3D video for cnn"
      ]
    },
    {
      "cell_type": "code",
      "source": [
        "#Importing required libraries\n",
        "import tensorflow as tf\n",
        "import numpy as np\n",
        "import matplotlib.pyplot as plt"
      ],
      "metadata": {
        "id": "F7ibxX3_g7D0"
      },
      "execution_count": 25,
      "outputs": []
    },
    {
      "cell_type": "code",
      "source": [
        "#Dataset\n",
        "(X_train,y_train),(X_test,y_test)=tf.keras.datasets.cifar10.load_data()"
      ],
      "metadata": {
        "id": "IgmRWDguogDY"
      },
      "execution_count": 26,
      "outputs": []
    },
    {
      "cell_type": "code",
      "source": [
        "# print the number of samples\n",
        "print(f\"X_train: > {len(X_train)} <\")\n",
        "print(f\"X_test: >{len(X_test)} <\")"
      ],
      "metadata": {
        "colab": {
          "base_uri": "https://localhost:8080/"
        },
        "id": "XDjrXrLZogGL",
        "outputId": "61811d5d-853e-4bae-b21a-7a1f076b3d1b"
      },
      "execution_count": 27,
      "outputs": [
        {
          "output_type": "stream",
          "name": "stdout",
          "text": [
            "X_train: > 50000 <\n",
            "X_test: >10000 <\n"
          ]
        }
      ]
    },
    {
      "cell_type": "code",
      "source": [
        "#print a sample from X_test datasets\n",
        "print(X_test[1258])"
      ],
      "metadata": {
        "colab": {
          "base_uri": "https://localhost:8080/"
        },
        "id": "UKEBoduOogI1",
        "outputId": "7ea45f08-84f4-4429-9c51-52810f8d98e4"
      },
      "execution_count": 28,
      "outputs": [
        {
          "output_type": "stream",
          "name": "stdout",
          "text": [
            "[[[ 92  80  71]\n",
            "  [ 90  81  74]\n",
            "  [ 90  84  79]\n",
            "  ...\n",
            "  [ 88  77  57]\n",
            "  [ 97  82  71]\n",
            "  [108  90  79]]\n",
            "\n",
            " [[ 86  74  65]\n",
            "  [ 85  76  69]\n",
            "  [ 86  81  76]\n",
            "  ...\n",
            "  [ 95  80  55]\n",
            "  [ 86  71  57]\n",
            "  [ 86  72  62]]\n",
            "\n",
            " [[ 72  60  51]\n",
            "  [ 61  52  45]\n",
            "  [ 60  54  49]\n",
            "  ...\n",
            "  [117  99  69]\n",
            "  [ 89  74  58]\n",
            "  [ 86  75  66]]\n",
            "\n",
            " ...\n",
            "\n",
            " [[149 131 115]\n",
            "  [140 126 109]\n",
            "  [134 124 106]\n",
            "  ...\n",
            "  [164 147 135]\n",
            "  [180 157 137]\n",
            "  [183 162 137]]\n",
            "\n",
            " [[153 136 117]\n",
            "  [143 130 110]\n",
            "  [133 123 102]\n",
            "  ...\n",
            "  [189 170 154]\n",
            "  [190 167 143]\n",
            "  [190 169 141]]\n",
            "\n",
            " [[162 144 122]\n",
            "  [156 138 116]\n",
            "  [155 138 116]\n",
            "  ...\n",
            "  [198 179 154]\n",
            "  [198 177 151]\n",
            "  [195 174 147]]]\n"
          ]
        }
      ]
    },
    {
      "cell_type": "code",
      "source": [
        "plt.imshow(X_test[1258])\n",
        "plt.show()\n",
        "\n",
        "print(X_test[1258].shape)"
      ],
      "metadata": {
        "colab": {
          "base_uri": "https://localhost:8080/",
          "height": 284
        },
        "id": "lykRl2WMogLg",
        "outputId": "f7e467eb-862b-4023-da61-115f984375d1"
      },
      "execution_count": 29,
      "outputs": [
        {
          "output_type": "display_data",
          "data": {
            "text/plain": [
              "<Figure size 432x288 with 1 Axes>"
            ],
            "image/png": "[encoded data removed]"
          },
          "metadata": {
            "needs_background": "light"
          }
        },
        {
          "output_type": "stream",
          "name": "stdout",
          "text": [
            "(32, 32, 3)\n"
          ]
        }
      ]
    },
    {
      "cell_type": "code",
      "source": [
        "#preprocessing\n",
        "#create the validation datasets\n",
        "#and assign the last 10000 images of X_train and y_train\n",
        "X_val=X_train[40000:]\n",
        "y_val =y_train[40000:]\n",
        "\n",
        "#create new train datasets\n",
        "#and assign the first 4000 images of X_train and  y_train\n",
        "\n",
        "X_train =X_train[:40000]\n",
        "y_train=y_train[:40000]"
      ],
      "metadata": {
        "id": "Kj2AnoBzogOi"
      },
      "execution_count": 30,
      "outputs": []
    },
    {
      "cell_type": "code",
      "source": [
        "#print the lengths of each dataset\n",
        "print(f\"X_train: {len(X_train)}\")\n",
        "print(f\"X_val: {len(X_val)}\")\n",
        "print(f\"X_test: {len(X_test)}\")\n"
      ],
      "metadata": {
        "colab": {
          "base_uri": "https://localhost:8080/"
        },
        "id": "H70fF7q-ogRX",
        "outputId": "ad534d25-7597-4ddb-a5dc-663985101122"
      },
      "execution_count": 31,
      "outputs": [
        {
          "output_type": "stream",
          "name": "stdout",
          "text": [
            "X_train: 40000\n",
            "X_val: 10000\n",
            "X_test: 10000\n"
          ]
        }
      ]
    },
    {
      "cell_type": "code",
      "source": [
        "#Normalization\n",
        "X_train=X_train/255\n",
        "X_val=X_val/255\n",
        "X_test=X_test/255"
      ],
      "metadata": {
        "id": "PYOls5BKogUD"
      },
      "execution_count": 32,
      "outputs": []
    },
    {
      "cell_type": "code",
      "source": [
        "#Create a model object\n",
        "model=tf.keras.Sequential([\n",
        "    tf.keras.layers.Conv2D(32,kernel_size=(3,3),strides=(1,1),padding=\"same\",activation=\"relu\",input_shape=(32,32,3)),\n",
        "    tf.keras.layers.MaxPool2D((2,2)),\n",
        "\n",
        "    #add more conv and maxpooling layers\n",
        "\n",
        "    tf.keras.layers.Conv2D(64,kernel_size=(3,3),strides=(1,1),padding=\"same\",activation=\"relu\"),\n",
        "    tf.keras.layers.MaxPooling2D((2,2)), \n",
        "\n",
        "    tf.keras.layers.Conv2D(64,kernel_size=(3,3),strides=(1,1),padding=\"same\",activation=\"relu\"),\n",
        "    #tf.keras.layers.MaxPooling2D((2,2)),\n",
        "\n",
        "    #flatten\n",
        "    tf.keras.layers.Flatten(),\n",
        "\n",
        "    #add the dense layer and dropout layer\n",
        "    tf.keras.layers.Dense(64,activation=\"relu\"),\n",
        "    tf.keras.layers.Dropout(0.5),\n",
        "\n",
        "    #add thedense layer and dropout layer\n",
        "    tf.keras.layers.Dense(64,activation=\"relu\"),\n",
        "    tf.keras.layers.Dropout(0.5),\n",
        "    \n",
        "    #add the output layer\n",
        "    tf.keras.layers.Dense(10,activation=\"softmax\")\n",
        "])"
      ],
      "metadata": {
        "id": "ofi9iVZ8ogWc"
      },
      "execution_count": 47,
      "outputs": []
    },
    {
      "cell_type": "code",
      "source": [
        "model.compile(optimizer=\"adam\",\n",
        "              loss=\"sparse_categorical_crossentropy\",\n",
        "              metrics=[\"accuracy\"])"
      ],
      "metadata": {
        "id": "q-rn9NQhogZP"
      },
      "execution_count": 48,
      "outputs": []
    },
    {
      "cell_type": "code",
      "source": [
        "#training model for 50 epocs\n",
        "results=model.fit(X_train,y_train,\n",
        "                  batch_size=128,\n",
        "                  epochs=50,\n",
        "                  validation_data=(X_val,y_val))"
      ],
      "metadata": {
        "colab": {
          "base_uri": "https://localhost:8080/"
        },
        "id": "T4uf4bMMogcc",
        "outputId": "42341e29-46ee-4ff7-959f-aae798b00b4a"
      },
      "execution_count": 49,
      "outputs": [
        {
          "output_type": "stream",
          "name": "stdout",
          "text": [
            "Epoch 1/50\n",
            "313/313 [==============================] - 3s 8ms/step - loss: 2.0644 - accuracy: 0.2082 - val_loss: 1.6907 - val_accuracy: 0.3768\n",
            "Epoch 2/50\n",
            "313/313 [==============================] - 2s 7ms/step - loss: 1.7083 - accuracy: 0.3517 - val_loss: 1.4391 - val_accuracy: 0.4829\n",
            "Epoch 3/50\n",
            "313/313 [==============================] - 2s 7ms/step - loss: 1.5455 - accuracy: 0.4257 - val_loss: 1.3046 - val_accuracy: 0.5391\n",
            "Epoch 4/50\n",
            "313/313 [==============================] - 3s 9ms/step - loss: 1.4442 - accuracy: 0.4684 - val_loss: 1.2102 - val_accuracy: 0.5659\n",
            "Epoch 5/50\n",
            "313/313 [==============================] - 2s 7ms/step - loss: 1.3633 - accuracy: 0.5012 - val_loss: 1.1688 - val_accuracy: 0.5959\n",
            "Epoch 6/50\n",
            "313/313 [==============================] - 2s 7ms/step - loss: 1.3044 - accuracy: 0.5262 - val_loss: 1.1964 - val_accuracy: 0.5819\n",
            "Epoch 7/50\n",
            "313/313 [==============================] - 2s 7ms/step - loss: 1.2465 - accuracy: 0.5530 - val_loss: 1.0657 - val_accuracy: 0.6338\n",
            "Epoch 8/50\n",
            "313/313 [==============================] - 2s 7ms/step - loss: 1.1960 - accuracy: 0.5722 - val_loss: 1.0420 - val_accuracy: 0.6386\n",
            "Epoch 9/50\n",
            "313/313 [==============================] - 2s 7ms/step - loss: 1.1574 - accuracy: 0.5849 - val_loss: 0.9872 - val_accuracy: 0.6595\n",
            "Epoch 10/50\n",
            "313/313 [==============================] - 2s 7ms/step - loss: 1.1095 - accuracy: 0.6030 - val_loss: 1.0201 - val_accuracy: 0.6483\n",
            "Epoch 11/50\n",
            "313/313 [==============================] - 2s 7ms/step - loss: 1.0779 - accuracy: 0.6148 - val_loss: 0.9470 - val_accuracy: 0.6746\n",
            "Epoch 12/50\n",
            "313/313 [==============================] - 2s 8ms/step - loss: 1.0541 - accuracy: 0.6229 - val_loss: 0.9522 - val_accuracy: 0.6699\n",
            "Epoch 13/50\n",
            "313/313 [==============================] - 2s 7ms/step - loss: 1.0141 - accuracy: 0.6389 - val_loss: 0.9422 - val_accuracy: 0.6754\n",
            "Epoch 14/50\n",
            "313/313 [==============================] - 2s 7ms/step - loss: 0.9835 - accuracy: 0.6496 - val_loss: 0.9352 - val_accuracy: 0.6832\n",
            "Epoch 15/50\n",
            "313/313 [==============================] - 2s 7ms/step - loss: 0.9533 - accuracy: 0.6630 - val_loss: 0.9065 - val_accuracy: 0.6926\n",
            "Epoch 16/50\n",
            "313/313 [==============================] - 2s 7ms/step - loss: 0.9326 - accuracy: 0.6690 - val_loss: 0.8746 - val_accuracy: 0.7059\n",
            "Epoch 17/50\n",
            "313/313 [==============================] - 2s 7ms/step - loss: 0.9103 - accuracy: 0.6752 - val_loss: 0.9016 - val_accuracy: 0.6991\n",
            "Epoch 18/50\n",
            "313/313 [==============================] - 2s 7ms/step - loss: 0.8854 - accuracy: 0.6822 - val_loss: 0.9056 - val_accuracy: 0.6912\n",
            "Epoch 19/50\n",
            "313/313 [==============================] - 2s 7ms/step - loss: 0.8607 - accuracy: 0.6902 - val_loss: 0.8793 - val_accuracy: 0.7049\n",
            "Epoch 20/50\n",
            "313/313 [==============================] - 2s 7ms/step - loss: 0.8351 - accuracy: 0.6998 - val_loss: 0.8862 - val_accuracy: 0.7074\n",
            "Epoch 21/50\n",
            "313/313 [==============================] - 2s 7ms/step - loss: 0.8324 - accuracy: 0.6991 - val_loss: 0.9037 - val_accuracy: 0.7014\n",
            "Epoch 22/50\n",
            "313/313 [==============================] - 2s 7ms/step - loss: 0.7990 - accuracy: 0.7117 - val_loss: 0.8951 - val_accuracy: 0.7054\n",
            "Epoch 23/50\n",
            "313/313 [==============================] - 2s 7ms/step - loss: 0.7761 - accuracy: 0.7189 - val_loss: 0.9301 - val_accuracy: 0.7093\n",
            "Epoch 24/50\n",
            "313/313 [==============================] - 2s 7ms/step - loss: 0.7690 - accuracy: 0.7269 - val_loss: 0.9049 - val_accuracy: 0.7071\n",
            "Epoch 25/50\n",
            "313/313 [==============================] - 2s 7ms/step - loss: 0.7571 - accuracy: 0.7305 - val_loss: 0.9033 - val_accuracy: 0.7032\n",
            "Epoch 26/50\n",
            "313/313 [==============================] - 2s 7ms/step - loss: 0.7331 - accuracy: 0.7404 - val_loss: 0.9273 - val_accuracy: 0.7066\n",
            "Epoch 27/50\n",
            "313/313 [==============================] - 2s 7ms/step - loss: 0.7176 - accuracy: 0.7449 - val_loss: 0.9169 - val_accuracy: 0.7042\n",
            "Epoch 28/50\n",
            "313/313 [==============================] - 2s 7ms/step - loss: 0.7018 - accuracy: 0.7477 - val_loss: 0.9328 - val_accuracy: 0.7120\n",
            "Epoch 29/50\n",
            "313/313 [==============================] - 2s 7ms/step - loss: 0.6702 - accuracy: 0.7591 - val_loss: 0.9291 - val_accuracy: 0.7097\n",
            "Epoch 30/50\n",
            "313/313 [==============================] - 2s 7ms/step - loss: 0.6758 - accuracy: 0.7570 - val_loss: 0.9253 - val_accuracy: 0.7148\n",
            "Epoch 31/50\n",
            "313/313 [==============================] - 2s 7ms/step - loss: 0.6709 - accuracy: 0.7600 - val_loss: 0.9745 - val_accuracy: 0.7076\n",
            "Epoch 32/50\n",
            "313/313 [==============================] - 2s 7ms/step - loss: 0.6444 - accuracy: 0.7690 - val_loss: 0.9937 - val_accuracy: 0.7059\n",
            "Epoch 33/50\n",
            "313/313 [==============================] - 2s 7ms/step - loss: 0.6518 - accuracy: 0.7674 - val_loss: 0.9733 - val_accuracy: 0.7056\n",
            "Epoch 34/50\n",
            "313/313 [==============================] - 2s 7ms/step - loss: 0.6246 - accuracy: 0.7762 - val_loss: 0.9532 - val_accuracy: 0.7158\n",
            "Epoch 35/50\n",
            "313/313 [==============================] - 2s 7ms/step - loss: 0.6204 - accuracy: 0.7775 - val_loss: 0.9917 - val_accuracy: 0.7164\n",
            "Epoch 36/50\n",
            "313/313 [==============================] - 2s 7ms/step - loss: 0.6112 - accuracy: 0.7785 - val_loss: 1.0604 - val_accuracy: 0.7035\n",
            "Epoch 37/50\n",
            "313/313 [==============================] - 2s 7ms/step - loss: 0.6015 - accuracy: 0.7819 - val_loss: 1.0239 - val_accuracy: 0.7179\n",
            "Epoch 38/50\n",
            "313/313 [==============================] - 2s 7ms/step - loss: 0.5945 - accuracy: 0.7863 - val_loss: 1.0252 - val_accuracy: 0.7134\n",
            "Epoch 39/50\n",
            "313/313 [==============================] - 2s 7ms/step - loss: 0.5889 - accuracy: 0.7861 - val_loss: 1.1096 - val_accuracy: 0.6956\n",
            "Epoch 40/50\n",
            "313/313 [==============================] - 2s 7ms/step - loss: 0.5815 - accuracy: 0.7907 - val_loss: 1.0398 - val_accuracy: 0.7181\n",
            "Epoch 41/50\n",
            "313/313 [==============================] - 2s 7ms/step - loss: 0.5742 - accuracy: 0.7918 - val_loss: 1.0638 - val_accuracy: 0.7133\n",
            "Epoch 42/50\n",
            "313/313 [==============================] - 2s 7ms/step - loss: 0.5644 - accuracy: 0.7967 - val_loss: 1.0670 - val_accuracy: 0.7133\n",
            "Epoch 43/50\n",
            "313/313 [==============================] - 2s 7ms/step - loss: 0.5533 - accuracy: 0.8014 - val_loss: 1.0873 - val_accuracy: 0.7144\n",
            "Epoch 44/50\n",
            "313/313 [==============================] - 2s 7ms/step - loss: 0.5544 - accuracy: 0.7998 - val_loss: 1.1361 - val_accuracy: 0.7062\n",
            "Epoch 45/50\n",
            "313/313 [==============================] - 2s 7ms/step - loss: 0.5431 - accuracy: 0.8013 - val_loss: 1.1751 - val_accuracy: 0.7108\n",
            "Epoch 46/50\n",
            "313/313 [==============================] - 2s 7ms/step - loss: 0.5490 - accuracy: 0.8029 - val_loss: 1.1070 - val_accuracy: 0.7129\n",
            "Epoch 47/50\n",
            "313/313 [==============================] - 2s 7ms/step - loss: 0.5505 - accuracy: 0.8002 - val_loss: 1.0965 - val_accuracy: 0.7176\n",
            "Epoch 48/50\n",
            "313/313 [==============================] - 2s 7ms/step - loss: 0.5237 - accuracy: 0.8105 - val_loss: 1.1569 - val_accuracy: 0.7112\n",
            "Epoch 49/50\n",
            "313/313 [==============================] - 2s 7ms/step - loss: 0.5264 - accuracy: 0.8098 - val_loss: 1.1818 - val_accuracy: 0.7152\n",
            "Epoch 50/50\n",
            "313/313 [==============================] - 2s 7ms/step - loss: 0.5160 - accuracy: 0.8132 - val_loss: 1.1623 - val_accuracy: 0.7120\n"
          ]
        }
      ]
    },
    {
      "cell_type": "code",
      "source": [
        "#visualize the results\n",
        "#plot the training loss\n",
        "plt.plot(results.history[\"loss\"],label=\"loss\")\n",
        "\n",
        "#plot the the validation loss\n",
        "plt.plot(results.history[\"val_loss\"],label=\"val_loss\")\n",
        "\n",
        "#name the x an y axises\n",
        "plt.xlabel(\"Epoch\")\n",
        "plt.ylabel(\"Loss\")\n",
        "\n",
        "plt.legend()\n",
        "plt.show()"
      ],
      "metadata": {
        "colab": {
          "base_uri": "https://localhost:8080/",
          "height": 279
        },
        "id": "sR5FEUG9ogfO",
        "outputId": "b242577d-5561-4d6b-d859-84128356ba48"
      },
      "execution_count": 53,
      "outputs": [
        {
          "output_type": "display_data",
          "data": {
            "text/plain": [
              "<Figure size 432x288 with 1 Axes>"
            ],
            "image/png": "[encoded data removed]"
          },
          "metadata": {
            "needs_background": "light"
          }
        }
      ]
    },
    {
      "cell_type": "code",
      "source": [
        "#plot the accuracy\n",
        "plt.plot(results.history[\"accuracy\"],label=\"Accuracy\")\n",
        "\n",
        "plt.plot(results.history[\"val_accuracy\"],label=\"Val_accuracy\")\n",
        "\n",
        "plt.xlabel(\"Epoch\")\n",
        "plt.ylabel(\"Accuracy\")\n",
        "\n",
        "plt.legend()\n",
        "plt.show()"
      ],
      "metadata": {
        "colab": {
          "base_uri": "https://localhost:8080/",
          "height": 279
        },
        "id": "N6zqJCxTzyv5",
        "outputId": "72157af9-5ee6-4f7a-8b8f-cbf2b18b5551"
      },
      "execution_count": 60,
      "outputs": [
        {
          "output_type": "display_data",
          "data": {
            "text/plain": [
              "<Figure size 432x288 with 1 Axes>"
            ],
            "image/png": "[encoded data removed]"
          },
          "metadata": {
            "needs_background": "light"
          }
        }
      ]
    },
    {
      "cell_type": "code",
      "source": [
        "#performnace evalutaion\n",
        "model.evaluate(X_test,y_test)"
      ],
      "metadata": {
        "colab": {
          "base_uri": "https://localhost:8080/"
        },
        "id": "39Rw5l0izysY",
        "outputId": "e0aab43b-1f33-46b1-f3c8-44c64740ed2a"
      },
      "execution_count": 61,
      "outputs": [
        {
          "output_type": "stream",
          "name": "stdout",
          "text": [
            "313/313 [==============================] - 1s 4ms/step - loss: 1.2171 - accuracy: 0.7042\n"
          ]
        },
        {
          "output_type": "execute_result",
          "data": {
            "text/plain": [
              "[1.2171285152435303, 0.704200029373169]"
            ]
          },
          "metadata": {},
          "execution_count": 61
        }
      ]
    },
    {
      "cell_type": "code",
      "source": [
        "#try a prediction\n",
        "#make a prediction on the reshaped sample\n",
        "prediction_result=model.predict(X_test[789].reshape(1,32,32,3))\n",
        "\n",
        "prediction_result"
      ],
      "metadata": {
        "colab": {
          "base_uri": "https://localhost:8080/"
        },
        "id": "UN8t3d3czyo8",
        "outputId": "795a084c-29ca-4d90-a214-4a94d64281d8"
      },
      "execution_count": 64,
      "outputs": [
        {
          "output_type": "execute_result",
          "data": {
            "text/plain": [
              "array([[1.3224795e-08, 2.8963117e-12, 4.4826200e-19, 1.3029794e-20,\n",
              "        1.0416742e-29, 4.5519495e-24, 1.5463217e-22, 3.2778657e-27,\n",
              "        1.0000000e+00, 5.3977737e-13]], dtype=float32)"
            ]
          },
          "metadata": {},
          "execution_count": 64
        }
      ]
    },
    {
      "cell_type": "code",
      "source": [
        "\n",
        "predicted_class=prediction_result.argmax()\n",
        "\n",
        "predicted_probability =prediction_result.max()"
      ],
      "metadata": {
        "id": "_bPJDoVX7HnU"
      },
      "execution_count": 65,
      "outputs": []
    },
    {
      "cell_type": "code",
      "source": [
        "print(f\"This image belongs to class {predicted_class} with {predicted_probability} probability %\")"
      ],
      "metadata": {
        "colab": {
          "base_uri": "https://localhost:8080/"
        },
        "id": "USkxL5uhzylv",
        "outputId": "dc713acb-e3be-4ab1-9aed-4c087ff95190"
      },
      "execution_count": 66,
      "outputs": [
        {
          "output_type": "stream",
          "name": "stdout",
          "text": [
            "This image belongs to class 8 with 1.0 probability %\n"
          ]
        }
      ]
    },
    {
      "cell_type": "code",
      "source": [],
      "metadata": {
        "id": "0Mtv0FkOzyid"
      },
      "execution_count": 68,
      "outputs": []
    }
  ]
}